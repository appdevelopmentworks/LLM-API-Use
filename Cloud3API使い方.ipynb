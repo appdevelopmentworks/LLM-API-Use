{
 "cells": [
  {
   "cell_type": "markdown",
   "id": "ba2e2708-b830-44fe-9d79-deff35f48415",
   "metadata": {},
   "source": [
    "# Anthropic Cloud3のAPI導入"
   ]
  },
  {
   "cell_type": "markdown",
   "id": "4fb50044-1e07-431b-a93f-67e3463506cc",
   "metadata": {},
   "source": [
    "### anthropicクライアントをインストール"
   ]
  },
  {
   "cell_type": "code",
   "execution_count": null,
   "id": "f64e866f-3fde-48ed-988b-9a42e423a65a",
   "metadata": {},
   "outputs": [],
   "source": [
    "!pip install anthropic"
   ]
  },
  {
   "cell_type": "markdown",
   "id": "7ea72f19-d623-42cb-bbe8-71959878cc33",
   "metadata": {},
   "source": [
    "## ワークベンチからGet Code"
   ]
  },
  {
   "cell_type": "code",
   "execution_count": 2,
   "id": "eee870c0-57db-4c4d-a6eb-a02bf1b02915",
   "metadata": {},
   "outputs": [
    {
     "name": "stdout",
     "output_type": "stream",
     "text": [
      "[TextBlock(text=\"Hello! It's nice to meet you. How can I help you today?\", type='text')]\n"
     ]
    }
   ],
   "source": [
    "import os\n",
    "from anthropic import Anthropic\n",
    "\n",
    "client = Anthropic(\n",
    "    # This is the default and can be omitted\n",
    "    api_key=os.environ['ANTHROPIC_API_KEY'],\n",
    ")\n",
    "\n",
    "message = client.messages.create(\n",
    "    max_tokens=1024,\n",
    "    messages=[\n",
    "        {\n",
    "            \"role\": \"user\",\n",
    "            \"content\": \"Hello, Claude\",\n",
    "        }\n",
    "    ],\n",
    "    #model=\"claude-3-opus-20240229\",\n",
    "    model=\"claude-3-5-sonnet-20240620\",\n",
    ")\n",
    "print(message.content)"
   ]
  },
  {
   "cell_type": "code",
   "execution_count": 10,
   "id": "3482e663-e5eb-4f71-9a50-4c240bcb9cfd",
   "metadata": {},
   "outputs": [
    {
     "name": "stdout",
     "output_type": "stream",
     "text": [
      "[TextBlock(text=\"Hello! It's nice to meet you. How can I assist you today?\", type='text')]\n"
     ]
    }
   ],
   "source": [
    "import anthropic\n",
    "\n",
    "client = anthropic.Anthropic(\n",
    "    # defaults to os.environ.get(\"ANTHROPIC_API_KEY\").strip()\n",
    "    api_key=os.environ.get(\"ANTHROPIC_API_KEY\"),\n",
    ")\n",
    "\n",
    "message = client.messages.create(\n",
    "    #model=\"claude-3-opus-20240229\",\n",
    "    model=\"claude-3-5-sonnet-20240620\",\n",
    "    max_tokens=1000,\n",
    "    temperature=0,\n",
    "    messages=[\n",
    "        {\n",
    "            \"role\": \"user\",\n",
    "            \"content\": \"Hello, Claude\",\n",
    "        }\n",
    "    ]\n",
    ")\n",
    "print(message.content)"
   ]
  },
  {
   "cell_type": "code",
   "execution_count": 3,
   "id": "b19022fe-44f3-4ec4-af3e-24b9dcdb0719",
   "metadata": {},
   "outputs": [
    {
     "data": {
      "text/plain": [
       "\"Hello! It's nice to meet you. How can I assist you today?\""
      ]
     },
     "execution_count": 3,
     "metadata": {},
     "output_type": "execute_result"
    }
   ],
   "source": [
    "message.content[0].text"
   ]
  },
  {
   "cell_type": "code",
   "execution_count": 3,
   "id": "6a719f48-6be3-4bf1-8d60-ecc6fd957453",
   "metadata": {},
   "outputs": [
    {
     "name": "stdout",
     "output_type": "stream",
     "text": [
      "だし巻き卵の基本的な作り方をご紹介します：\n",
      "\n",
      "材料（2人分）:\n",
      "- 卵 4個\n",
      "- だし汁 100ml\n",
      "- 砂糖 小さじ1\n",
      "- 塩 少々\n",
      "- みりん 小さじ1\n",
      "- サラダ油 適量\n",
      "\n",
      "手順:\n",
      "1. ボウルに卵を割り入れ、だし汁、砂糖、塩、みりんを加えてよく混ぜます。\n",
      "\n",
      "2. 卵液をザルでこして、滑らかにします。\n",
      "\n",
      "3. フライパンを中火で熱し、サラダ油を薄く敷きます。\n",
      "\n",
      "4. 卵液の1/3程度を流し入れ、半熟状態になったら奥から手前に向かって巻きます。\n",
      "\n",
      "5. 巻いた卵を奥に寄せ、再び油をひいて卵液を流し入れます。\n",
      "\n",
      "6. 先ほど巻いた卵の上に新しい卵液がかかるように広げ、再び巻きます。\n",
      "\n",
      "7. この作業を2-3回繰り返し、卵液がなくなるまで続けます。\n",
      "\n",
      "8. 最後に全体に火が通るまで焼き、完成です。\n",
      "\n",
      "9. 適当な大きさに切り分けて盛り付けます。\n",
      "\n",
      "コツ:\n",
      "- 卵液は細かくこすと、より滑らかな仕上がりになります。\n",
      "- 火加減は中火～弱火で調整し、焦げないように注意しましょう。\n",
      "- 巻く際は、箸やヘラを使うと巻きやすくなります。\n"
     ]
    }
   ],
   "source": [
    "import anthropic\n",
    "\n",
    "client = anthropic.Anthropic(\n",
    "    # defaults to os.environ.get(\"ANTHROPIC_API_KEY\")\n",
    "    api_key=os.environ.get(\"ANTHROPIC_API_KEY\"),\n",
    ")\n",
    "\n",
    "message = client.messages.create(\n",
    "    model=\"claude-3-5-sonnet-20240620\",\n",
    "    max_tokens=1000,\n",
    "    temperature=0,\n",
    "    messages=[\n",
    "        {\n",
    "            \"role\": \"user\",\n",
    "            \"content\": \"だし巻き卵の作り方おしえて\",\n",
    "        }\n",
    "    ]\n",
    ")\n",
    "print(message.content[0].text)"
   ]
  },
  {
   "cell_type": "code",
   "execution_count": 4,
   "id": "3325c3d6-1001-4a55-b962-84423018deb4",
   "metadata": {},
   "outputs": [
    {
     "name": "stderr",
     "output_type": "stream",
     "text": [
      "C:\\Users\\hartm\\anaconda3\\Lib\\site-packages\\langchain_core\\_api\\deprecation.py:119: LangChainDeprecationWarning: The class `ChatAnthropic` was deprecated in LangChain 0.0.28 and will be removed in 0.2. An updated version of the class exists in the langchain-anthropic package and should be used instead. To use it run `pip install -U langchain-anthropic` and import as `from langchain_anthropic import ChatAnthropic`.\n",
      "  warn_deprecated(\n",
      "C:\\Users\\hartm\\anaconda3\\Lib\\site-packages\\langchain_core\\_api\\deprecation.py:119: LangChainDeprecationWarning: The method `BaseChatModel.__call__` was deprecated in langchain-core 0.1.7 and will be removed in 0.2.0. Use invoke instead.\n",
      "  warn_deprecated(\n"
     ]
    },
    {
     "name": "stdout",
     "output_type": "stream",
     "text": [
      " クジラの寿命は種によって大きく異なります。\n",
      "\n",
      "- ミンククジラの平均寿命は50年程度です。\n",
      "\n",
      "- マッコウクジラの平均寿命は80-90年と長い傾向にあります。100年以上生きる個体もいます。\n",
      "\n",
      "- 最大のクジラであるシロナガスクジラの平均寿命は200年以上と言われています。確認されている最高齢の個体は211年でした。\n",
      "\n",
      "- 一般に大型のクジラほど寿命が長く、小型のクジラの方が寿命が短い傾向にあります。\n",
      "\n",
      "このようにクジラの寿命は種や個体による幅が大きいのが特徴です。寿命の長さは体の大きさと相関があると考えられています。大型クジ クジラの寿命は種によって大きく異なります。\n",
      "\n",
      "- ミンククジラの平均寿命は50年程度です。\n",
      "\n",
      "- マッコウクジラの平均寿命は80-90年と長い傾向にあります。100年以上生きる個体もいます。\n",
      "\n",
      "- 最大のクジラであるシロナガスクジラの平均寿命は200年以上と言われています。確認されている最高齢の個体は211年でした。\n",
      "\n",
      "- 一般に大型のクジラほど寿命が長く、小型のクジラの方が寿命が短い傾向にあります。\n",
      "\n",
      "このようにクジラの寿命は種や個体による幅が大きいのが特徴です。寿命の長さは体の大きさと相関があると考えられています。大型クジ\n"
     ]
    }
   ],
   "source": [
    "from langchain.callbacks.streaming_stdout import StreamingStdOutCallbackHandler\n",
    "from langchain.chat_models import ChatAnthropic\n",
    "from langchain.schema import HumanMessage\n",
    "\n",
    "chat = ChatAnthropic(\n",
    "    #ストリーミングモード指定\n",
    "    streaming=True,\n",
    "    callbacks=[\n",
    "        StreamingStdOutCallbackHandler()\n",
    "    ]\n",
    ")\n",
    "\n",
    "#リクエスト\n",
    "resp = chat([\n",
    "    HumanMessage(content=\"クジラの寿命について教えて\")\n",
    "])\n",
    "\n",
    "print(resp.content)"
   ]
  },
  {
   "cell_type": "code",
   "execution_count": 9,
   "id": "573d76a4-a544-4337-9a6f-21fcf0d1d4b3",
   "metadata": {},
   "outputs": [
    {
     "name": "stdout",
     "output_type": "stream",
     "text": [
      "ホオジロザメの寿命については、長い間不明確でしたが、近年の研究でより詳しいことがわかってきました。以下にホオジロザメの寿命に関する主な情報をまとめます：\n",
      "\n",
      "1. 推定寿命：\n",
      "   最新の研究によると、ホオジロザメの寿命は70年以上と推定されています。一部の個体は100年近く生きる可能性があるとも言われています。\n",
      "\n",
      "2. 研究方法：\n",
      "   脊椎骨の年輪を分析する方法や、核実験による放射性炭素14の蓄積を調べる方法などが用いられています。\n",
      "\n",
      "3. 成熟年齢：\n",
      "   雌は約33年、雄は約26年で性的成熟に達すると考えられています。\n",
      "\n",
      "4. 成長速度：\n",
      "   他のサメ類と比較して、成長速度が遅いことが特徴です。\n",
      "\n",
      "5. 寿命の長さの意味：\n",
      "   長寿命であることは、繁殖可能期間が長いことを意味しますが、同時に個体数の回復に時間がかかることも示しています。\n",
      "\n",
      "6. 保護への影響：\n",
      "   長寿命であることは、乱獲や環境変化に対して脆弱であることを意味し、保護の重要性を示しています。\n",
      "\n",
      "これらの情報は、ホオジロザメの生態や保護策を考える上で重要な要素となっています。ホオジロザメの寿命については、長い間不明確でしたが、近年の研究でより詳しいことがわかってきました。以下にホオジロザメの寿命に関する主な情報をまとめます：\n",
      "\n",
      "1. 推定寿命：\n",
      "   最新の研究によると、ホオジロザメの寿命は70年以上と推定されています。一部の個体は100年近く生きる可能性があるとも言われています。\n",
      "\n",
      "2. 研究方法：\n",
      "   脊椎骨の年輪を分析する方法や、核実験による放射性炭素14の蓄積を調べる方法などが用いられています。\n",
      "\n",
      "3. 成熟年齢：\n",
      "   雌は約33年、雄は約26年で性的成熟に達すると考えられています。\n",
      "\n",
      "4. 成長速度：\n",
      "   他のサメ類と比較して、成長速度が遅いことが特徴です。\n",
      "\n",
      "5. 寿命の長さの意味：\n",
      "   長寿命であることは、繁殖可能期間が長いことを意味しますが、同時に個体数の回復に時間がかかることも示しています。\n",
      "\n",
      "6. 保護への影響：\n",
      "   長寿命であることは、乱獲や環境変化に対して脆弱であることを意味し、保護の重要性を示しています。\n",
      "\n",
      "これらの情報は、ホオジロザメの生態や保護策を考える上で重要な要素となっています。\n"
     ]
    }
   ],
   "source": [
    "from langchain.callbacks.streaming_stdout import StreamingStdOutCallbackHandler\n",
    "#from langchain.chat_models import ChatAnthropic\n",
    "from langchain.schema import HumanMessage\n",
    "\n",
    "from langchain_anthropic import ChatAnthropic\n",
    "\n",
    "chat = ChatAnthropic(\n",
    "    #ストリーミングモード指定\n",
    "    streaming=True,\n",
    "    model='claude-3-5-sonnet-20240620',\n",
    "    callbacks=[\n",
    "        StreamingStdOutCallbackHandler()\n",
    "    ]\n",
    ")\n",
    "\n",
    "#リクエスト\n",
    "resp = chat([\n",
    "    HumanMessage(content=\"ホオジロザメの寿命について教えて\")\n",
    "])\n",
    "\n",
    "print(resp.content)"
   ]
  },
  {
   "cell_type": "code",
   "execution_count": null,
   "id": "80e9c8c8-397c-423a-a0fc-c574f1c7c882",
   "metadata": {},
   "outputs": [],
   "source": []
  }
 ],
 "metadata": {
  "kernelspec": {
   "display_name": "Python 3 (ipykernel)",
   "language": "python",
   "name": "python3"
  },
  "language_info": {
   "codemirror_mode": {
    "name": "ipython",
    "version": 3
   },
   "file_extension": ".py",
   "mimetype": "text/x-python",
   "name": "python",
   "nbconvert_exporter": "python",
   "pygments_lexer": "ipython3",
   "version": "3.11.7"
  }
 },
 "nbformat": 4,
 "nbformat_minor": 5
}
