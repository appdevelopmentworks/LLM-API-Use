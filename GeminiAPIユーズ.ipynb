{
 "cells": [
  {
   "cell_type": "code",
   "execution_count": 8,
   "id": "be1e0aa4-7f1a-4da0-a44d-80dd48642dc9",
   "metadata": {},
   "outputs": [],
   "source": [
    "import google.generativeai as genai\n",
    "import os\n",
    "\n",
    "# 環境変数の準備 (左端の鍵アイコンでGOOGLE_API_KEYを設定)\n",
    "GOOGLE_API_KEY=os.environ[\"GOOGLE_API_KEY\"]\n",
    "genai.configure(api_key=GOOGLE_API_KEY)"
   ]
  },
  {
   "cell_type": "markdown",
   "id": "cabbedeb-8bc4-4509-9be7-6171fb2e266f",
   "metadata": {},
   "source": [
    "## 解析の対象となる動画をアップロード"
   ]
  },
  {
   "cell_type": "code",
   "execution_count": 9,
   "id": "f04e03fa-e465-4c7b-9c70-fecfa6807b02",
   "metadata": {},
   "outputs": [
    {
     "name": "stdout",
     "output_type": "stream",
     "text": [
      "Completed upload: https://generativelanguage.googleapis.com/v1beta/files/dpmdm75xq3m\n"
     ]
    }
   ],
   "source": [
    "# 動画のアップロード\n",
    "video_file = genai.upload_file(path=\"temp001.mp4\")\n",
    "print(\"Completed upload:\", video_file.uri)"
   ]
  },
  {
   "cell_type": "markdown",
   "id": "66190645-f26f-4f07-a289-9643d0eb0bdb",
   "metadata": {},
   "source": [
    "## アップロードの進捗状況を調べる"
   ]
  },
  {
   "cell_type": "code",
   "execution_count": null,
   "id": "e34891ab-70c2-4694-9a87-2352e4bb8685",
   "metadata": {},
   "outputs": [],
   "source": [
    "import time\n",
    "\n",
    "# APIがファイルを受信したことを確認\n",
    "while video_file.state.name == \"PROCESSING\":\n",
    "    print('Waiting for video to be processed.')\n",
    "    time.sleep(10)\n",
    "    video_file = genai.get_file(video_file.name)\n",
    "\n",
    "if video_file.state.name == \"FAILED\":\n",
    "  raise ValueError(video_file.state.name)\n",
    "print(\"Video processing complete:\", video_file.uri)"
   ]
  },
  {
   "cell_type": "code",
   "execution_count": 10,
   "id": "0cd54d50-0208-4952-bb70-9c252ce3f173",
   "metadata": {},
   "outputs": [],
   "source": [
    "video_file = genai.get_file(video_file.name)"
   ]
  },
  {
   "cell_type": "markdown",
   "id": "aabe2740-663b-4afe-b4ac-64c7b080e3d2",
   "metadata": {},
   "source": [
    "## 動画の内容について質問する"
   ]
  },
  {
   "cell_type": "code",
   "execution_count": 11,
   "id": "4e49f205-0db3-4c20-9dad-aebc0cd37586",
   "metadata": {},
   "outputs": [
    {
     "name": "stdout",
     "output_type": "stream",
     "text": [
      "動画は、ウェストポイントの米国陸軍士官学校に新入生が入学する様子を映し出しています。\n",
      "\n",
      "動画は、新入生が頭を丸坊主に刈られているシーンから始まります。彼らは緊張した面持ちで、これから始まる厳しい訓練に備えています。\n",
      "その後、新入生たちは家族との最後の別れを惜しみます。彼らは6週間、家族との連絡が極端に制限されるため、涙を流す人もいます。\n",
      "新入生たちは軍服に着替え、上官からの指示を受けながら、基本的な軍事訓練を受け始めます。行進や命令への従順など、軍人としての基礎を学びます。\n",
      "厳しい訓練を経て、新入生たちは宣誓式に臨みます。彼らは米国陸軍の一員として、国に奉仕することを誓います。\n",
      "動画の最後は、新入生たちが堂々と行進するシーンで締めくくられます。彼らは厳しい訓練を経て、軍人としての第一歩を踏み出します。\n"
     ]
    }
   ],
   "source": [
    "# モデルの準備\n",
    "model = genai.GenerativeModel(\n",
    "    model_name=\"models/gemini-1.5-pro-latest\"\n",
    ")\n",
    "\n",
    "# 推論の実行\n",
    "response = model.generate_content(\n",
    "    [\"この動画を日本語で説明してください。\", video_file],\n",
    "    request_options={\"timeout\": 600} # タイムアウト指定\n",
    ")\n",
    "print(response.text)"
   ]
  },
  {
   "cell_type": "code",
   "execution_count": 12,
   "id": "777bbce5-dc07-453f-8c3c-e151ba6876ec",
   "metadata": {},
   "outputs": [],
   "source": [
    "# ファイルの削除\n",
    "genai.delete_file(video_file.name)"
   ]
  },
  {
   "cell_type": "code",
   "execution_count": null,
   "id": "4fbfcaef-998b-496e-878d-12348dfc6028",
   "metadata": {},
   "outputs": [],
   "source": []
  }
 ],
 "metadata": {
  "kernelspec": {
   "display_name": "Python 3 (ipykernel)",
   "language": "python",
   "name": "python3"
  },
  "language_info": {
   "codemirror_mode": {
    "name": "ipython",
    "version": 3
   },
   "file_extension": ".py",
   "mimetype": "text/x-python",
   "name": "python",
   "nbconvert_exporter": "python",
   "pygments_lexer": "ipython3",
   "version": "3.11.7"
  }
 },
 "nbformat": 4,
 "nbformat_minor": 5
}
