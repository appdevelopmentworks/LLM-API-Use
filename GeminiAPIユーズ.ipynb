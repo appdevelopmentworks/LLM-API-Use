{
 "cells": [
  {
   "cell_type": "code",
   "execution_count": 2,
   "id": "be1e0aa4-7f1a-4da0-a44d-80dd48642dc9",
   "metadata": {},
   "outputs": [],
   "source": [
    "import google.generativeai as genai\n",
    "import os\n",
    "\n",
    "# 環境変数の準備 (左端の鍵アイコンでGOOGLE_API_KEYを設定)\n",
    "GOOGLE_API_KEY=os.environ[\"GOOGLE_API_KEY\"]\n",
    "genai.configure(api_key=GOOGLE_API_KEY)"
   ]
  },
  {
   "cell_type": "markdown",
   "id": "cabbedeb-8bc4-4509-9be7-6171fb2e266f",
   "metadata": {},
   "source": [
    "## 解析の対象となる動画をアップロード"
   ]
  },
  {
   "cell_type": "code",
   "execution_count": 4,
   "id": "f04e03fa-e465-4c7b-9c70-fecfa6807b02",
   "metadata": {},
   "outputs": [
    {
     "name": "stdout",
     "output_type": "stream",
     "text": [
      "Completed upload: https://generativelanguage.googleapis.com/v1beta/files/pho4kl8ehy6g\n"
     ]
    }
   ],
   "source": [
    "# 動画のアップロード\n",
    "video_file = genai.upload_file(path=\"keynote_recap.mp4\")\n",
    "print(\"Completed upload:\", video_file.uri)"
   ]
  },
  {
   "cell_type": "markdown",
   "id": "66190645-f26f-4f07-a289-9643d0eb0bdb",
   "metadata": {},
   "source": [
    "## アップロードの進捗状況を調べる"
   ]
  },
  {
   "cell_type": "code",
   "execution_count": null,
   "id": "e34891ab-70c2-4694-9a87-2352e4bb8685",
   "metadata": {},
   "outputs": [],
   "source": [
    "import time\n",
    "\n",
    "# APIがファイルを受信したことを確認\n",
    "while video_file.state.name == \"PROCESSING\":\n",
    "    print('Waiting for video to be processed.')\n",
    "    time.sleep(10)\n",
    "    video_file = genai.get_file(video_file.name)\n",
    "\n",
    "if video_file.state.name == \"FAILED\":\n",
    "  raise ValueError(video_file.state.name)\n",
    "print(\"Video processing complete:\", video_file.uri)"
   ]
  },
  {
   "cell_type": "markdown",
   "id": "aabe2740-663b-4afe-b4ac-64c7b080e3d2",
   "metadata": {},
   "source": [
    "## 動画の内容について質問する"
   ]
  },
  {
   "cell_type": "code",
   "execution_count": 5,
   "id": "4e49f205-0db3-4c20-9dad-aebc0cd37586",
   "metadata": {},
   "outputs": [
    {
     "name": "stdout",
     "output_type": "stream",
     "text": [
      "この動画は、OpenAI DevDayの基調講演の要約です。\n",
      "\n",
      "OpenAIのCEOであるサム・アルトマンが、新しい言語モデル「GPT-4 Turbo」を発表しています。このモデルは、従来のGPT-4と比べて、コンテキストの長さが12万8000トークンまで対応可能で、JSONモード、関数呼び出しなど、多くの新機能が搭載されています。また、知識ベースも2023年4月まで更新されており、より最新の情報を取得することができます。\n",
      "\n",
      "さらに、APIに新しいプログラム「カスタムモデル」が導入されました。これにより、OpenAIの研究者と企業が協力して、企業のニーズに合わせたカスタムモデルを構築することができます。また、既存のGPT-4顧客のレート制限が2倍になり、APIアカウント設定でレート制限とクォータの変更を直接リクエストできるようになりました。\n",
      "\n",
      "さらに、OpenAIは「GPT」と呼ばれる、ChatGPTの特定の目的に合わせたカスタマイズバージョンを導入しました。GPTは、指示、拡張された知識、アクションを組み合わせることで、よりユーザーにとって役立つものになります。コーディングの知識がない人でも、自然言語でGPTをプログラムできるように設計されています。プライベートGPTを作成したり、作成したGPTを誰でも使用できるように公開したり、ChatGPT Enterpriseを使用している場合は、会社専用のGPTを作成したりすることができます。OpenAIはまた、今月末にGPTストアを立ち上げる予定です。\n",
      "\n",
      "APIには、アシスタンスAPIが導入され、永続的なスレッド、組み込みの検索、コードインタープリター、サンドボックス環境での動作するPythonインタープリター、そしてもちろん、改善された関数呼び出しが含まれています。\n",
      "\n",
      "アルトマンは、インテリジェンスがあらゆる場所に統合されるにつれて、私たちは皆、オンデマンドでスーパーパワーを持つようになると述べています。彼は、この技術を使って私たちが何を作り出すかを見ることに興奮しており、私たち全員が一緒に構築していく新しい未来を発見することを楽しみにしています。\n"
     ]
    }
   ],
   "source": [
    "# モデルの準備\n",
    "model = genai.GenerativeModel(\n",
    "    model_name=\"models/gemini-1.5-pro-latest\"\n",
    ")\n",
    "\n",
    "# 推論の実行\n",
    "response = model.generate_content(\n",
    "    [\"この動画を日本語で説明してください。\", video_file],\n",
    "    request_options={\"timeout\": 600} # タイムアウト指定\n",
    ")\n",
    "print(response.text)"
   ]
  },
  {
   "cell_type": "code",
   "execution_count": 7,
   "id": "777bbce5-dc07-453f-8c3c-e151ba6876ec",
   "metadata": {},
   "outputs": [],
   "source": [
    "# ファイルの削除\n",
    "genai.delete_file(video_file.name)"
   ]
  },
  {
   "cell_type": "code",
   "execution_count": null,
   "id": "97b42059-996a-4468-8a00-7509aca719e9",
   "metadata": {},
   "outputs": [],
   "source": []
  }
 ],
 "metadata": {
  "kernelspec": {
   "display_name": "Python 3 (ipykernel)",
   "language": "python",
   "name": "python3"
  },
  "language_info": {
   "codemirror_mode": {
    "name": "ipython",
    "version": 3
   },
   "file_extension": ".py",
   "mimetype": "text/x-python",
   "name": "python",
   "nbconvert_exporter": "python",
   "pygments_lexer": "ipython3",
   "version": "3.11.7"
  }
 },
 "nbformat": 4,
 "nbformat_minor": 5
}
