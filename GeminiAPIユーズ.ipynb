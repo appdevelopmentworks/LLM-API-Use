{
 "cells": [
  {
   "cell_type": "code",
   "execution_count": 1,
   "id": "be1e0aa4-7f1a-4da0-a44d-80dd48642dc9",
   "metadata": {},
   "outputs": [],
   "source": [
    "import google.generativeai as genai\n",
    "import os\n",
    "\n",
    "# 環境変数の準備 (左端の鍵アイコンでGOOGLE_API_KEYを設定)\n",
    "GOOGLE_API_KEY=os.environ[\"GOOGLE_API_KEY\"]\n",
    "genai.configure(api_key=GOOGLE_API_KEY)"
   ]
  },
  {
   "cell_type": "markdown",
   "id": "cabbedeb-8bc4-4509-9be7-6171fb2e266f",
   "metadata": {},
   "source": [
    "## 解析の対象となる動画をアップロード"
   ]
  },
  {
   "cell_type": "code",
   "execution_count": 2,
   "id": "f04e03fa-e465-4c7b-9c70-fecfa6807b02",
   "metadata": {},
   "outputs": [
    {
     "name": "stdout",
     "output_type": "stream",
     "text": [
      "Completed upload: https://generativelanguage.googleapis.com/v1beta/files/az5hdil4ba8k\n"
     ]
    }
   ],
   "source": [
    "# 動画のアップロード\n",
    "video_file = genai.upload_file(path=\"keynote_recap.mp4\")\n",
    "print(\"Completed upload:\", video_file.uri)"
   ]
  },
  {
   "cell_type": "markdown",
   "id": "66190645-f26f-4f07-a289-9643d0eb0bdb",
   "metadata": {},
   "source": [
    "## アップロードの進捗状況を調べる"
   ]
  },
  {
   "cell_type": "code",
   "execution_count": null,
   "id": "e34891ab-70c2-4694-9a87-2352e4bb8685",
   "metadata": {},
   "outputs": [],
   "source": [
    "import time\n",
    "\n",
    "# APIがファイルを受信したことを確認\n",
    "while video_file.state.name == \"PROCESSING\":\n",
    "    print('Waiting for video to be processed.')\n",
    "    time.sleep(10)\n",
    "    video_file = genai.get_file(video_file.name)\n",
    "\n",
    "if video_file.state.name == \"FAILED\":\n",
    "  raise ValueError(video_file.state.name)\n",
    "print(\"Video processing complete:\", video_file.uri)"
   ]
  },
  {
   "cell_type": "code",
   "execution_count": 4,
   "id": "0cd54d50-0208-4952-bb70-9c252ce3f173",
   "metadata": {},
   "outputs": [
    {
     "data": {
      "text/plain": [
       "<google.generativeai.types.file_types.File at 0x2ce4a6c6c90>"
      ]
     },
     "execution_count": 4,
     "metadata": {},
     "output_type": "execute_result"
    }
   ],
   "source": [
    "video_file = genai.get_file(video_file.name)"
   ]
  },
  {
   "cell_type": "markdown",
   "id": "aabe2740-663b-4afe-b4ac-64c7b080e3d2",
   "metadata": {},
   "source": [
    "## 動画の内容について質問する"
   ]
  },
  {
   "cell_type": "code",
   "execution_count": 5,
   "id": "4e49f205-0db3-4c20-9dad-aebc0cd37586",
   "metadata": {},
   "outputs": [
    {
     "name": "stdout",
     "output_type": "stream",
     "text": [
      "動画は、OpenAI DevDay の基調講演の要約で、OpenAI の CEO である Sam Altman 氏が新しい AI モデルと機能を発表している様子を映しています。\n",
      "\n",
      "**発表された主な内容は以下のとおりです。**\n",
      "\n",
      "* **GPT-4 Turbo:** 従来の GPT-4 よりも高速かつ低価格で、最大 128,000 トークンのコンテキストを処理可能。\n",
      "    * JSON モード: 有効な JSON 形式で応答を返す機能。\n",
      "    * 関数呼び出し: 複数の関数を一度に呼び出すことができる機能。\n",
      "    * 知識の向上: 2023 年 4 月までの最新の情報を含む。\n",
      "* **DALL-E 3:** 画像生成 AI モデル。\n",
      "* **GPT-4 Turbo with Vision:** 画像を理解する能力を備えた GPT-4 Turbo。\n",
      "* **新しいテキスト音声合成 (TTS) モデル:** より自然な音声合成が可能。\n",
      "* **カスタムモデル:** 企業のニーズに合わせてカスタマイズされた AI モデルを作成できるプログラム。\n",
      "* **レート制限の緩和:** 既存の GPT-4 ユーザー向けのトークン数／分の制限が 2 倍に増加。\n",
      "* **GPTs:** 特定の目的に合わせてカスタマイズされたチャット GPT のバージョン。\n",
      "    * 自然言語での構築: コーディングの知識がなくても作成可能。\n",
      "    * プライベート GPT: 個人用 GPT の作成。\n",
      "    * パブリック GPT: リンクを共有して誰でも使えるようにする。\n",
      "    * エンタープライズ GPT: 企業内で共有するための GPT の作成。\n",
      "    * GPT ストア: 他のユーザーが作成した GPT を公開・共有できるプラットフォーム（近日公開予定）。\n",
      "* **アシスタンス API:** 開発者が AI アシスタントを簡単に構築するための API。\n",
      "    * スレッディング: 長い会話履歴を効率的に管理。\n",
      "    * リトリーバル: 外部データを利用して回答の精度を向上。\n",
      "    * コードインタープリター: Python コードの実行環境。\n",
      "    * 関数呼び出しの改善: より複雑なタスクの自動化。\n",
      "\n",
      "Altman 氏は、AI があらゆる場所に統合され、すべての人がオンデマンドで超能力を使えるようになると述べ、これらの新しい技術が未来を築くために役立つことを期待していると語りました。\n"
     ]
    }
   ],
   "source": [
    "# モデルの準備\n",
    "model = genai.GenerativeModel(\n",
    "    model_name=\"models/gemini-1.5-pro-latest\"\n",
    ")\n",
    "\n",
    "# 推論の実行\n",
    "response = model.generate_content(\n",
    "    [\"この動画を日本語で説明してください。\", video_file],\n",
    "    request_options={\"timeout\": 600} # タイムアウト指定\n",
    ")\n",
    "print(response.text)"
   ]
  },
  {
   "cell_type": "code",
   "execution_count": 7,
   "id": "777bbce5-dc07-453f-8c3c-e151ba6876ec",
   "metadata": {},
   "outputs": [],
   "source": [
    "# ファイルの削除\n",
    "genai.delete_file(video_file.name)"
   ]
  },
  {
   "cell_type": "code",
   "execution_count": null,
   "id": "97b42059-996a-4468-8a00-7509aca719e9",
   "metadata": {},
   "outputs": [],
   "source": []
  }
 ],
 "metadata": {
  "kernelspec": {
   "display_name": "Python 3 (ipykernel)",
   "language": "python",
   "name": "python3"
  },
  "language_info": {
   "codemirror_mode": {
    "name": "ipython",
    "version": 3
   },
   "file_extension": ".py",
   "mimetype": "text/x-python",
   "name": "python",
   "nbconvert_exporter": "python",
   "pygments_lexer": "ipython3",
   "version": "3.11.7"
  }
 },
 "nbformat": 4,
 "nbformat_minor": 5
}
