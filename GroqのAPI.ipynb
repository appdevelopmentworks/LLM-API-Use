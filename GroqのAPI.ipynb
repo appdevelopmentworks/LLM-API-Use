{
 "cells": [
  {
   "cell_type": "markdown",
   "id": "cfd91eaa-2477-447d-a411-6b8ffeec8765",
   "metadata": {},
   "source": [
    "# Groq APIの場合"
   ]
  },
  {
   "cell_type": "code",
   "execution_count": 5,
   "id": "7ac5d759-083a-46b2-96b2-805cb65f0f15",
   "metadata": {},
   "outputs": [
    {
     "name": "stdout",
     "output_type": "stream",
     "text": [
      "Fast language models have gained significant attention in the field of natural language processing (NLP) in recent years, and their importance cannot be overstated. Here are some reasons why fast language models are crucial:\n",
      "\n",
      "1. **Scalability**: With the proliferation of big data and the increasing need for text analysis, fast language models enable rapid processing of large datasets, making it possible to analyze and extract insights from vast amounts of text data.\n",
      "2. **Real-time processing**: Fast language models can process text data in real-time, making them essential for applications such as chatbots, customer service chat interfaces, and social media analysis.\n",
      "3. **Improved accuracy**: By leveraging large amounts of training data and advanced algorithms, fast language models can achieve higher accuracy in tasks such as language translation, sentiment analysis, and text classification.\n",
      "4. **Faster language understanding**: Fast language models can quickly understand the nuances of human language, facilitating better decision-making in various industries, such as healthcare, finance, and marketing.\n",
      "5. **Enhanced user experience**: Fast language models enable the development of conversational user interfaces, such as voice assistants and smart home devices, which rely on fast processing of natural language inputs.\n",
      "6. **Cost-effective**: Fast language models can be deployed on a wide range of devices and platforms, making them more cost-effective than traditional NLP solutions.\n",
      "7. **Evolving AI applications**: Fast language models lay the foundation for more sophisticated AI applications, such as natural language generation, automated writing, and personalized customer service.\n",
      "8. **Real-time monitoring and analysis**: Fast language models can rapidly analyze and generate insights from streaming data, enabling real-time monitoring and analysis of text-based data.\n",
      "9. **Enabling Human-Machine Interaction**: Fast language models can improve human-machine interaction by providing a more natural and conversational experience, enhancing the overall user experience.\n",
      "10. **Advancements in AI research**: The development of fast language models drives innovation in AI research, pushing the boundaries of what is possible with NLP and AI.\n",
      "\n",
      "The development of fast language models has the potential to revolutionize various industries and aspects of our daily lives, ultimately improving communication, understanding, and decision-making.\n"
     ]
    }
   ],
   "source": [
    "import os\n",
    "\n",
    "from groq import Groq\n",
    "\n",
    "client = Groq(\n",
    "    api_key=os.environ.get(\"GROQ_API_KEY\"),\n",
    ")\n",
    "\n",
    "chat_completion = client.chat.completions.create(\n",
    "    messages=[\n",
    "        {\n",
    "            \"role\": \"user\",\n",
    "            \"content\": \"Explain the importance of fast language models\",\n",
    "        }\n",
    "    ],\n",
    "    model=\"llama3-8b-8192\",\n",
    ")\n",
    "\n",
    "print(chat_completion.choices[0].message.content)"
   ]
  },
  {
   "cell_type": "code",
   "execution_count": 15,
   "id": "0494eb1d-8723-4ad9-8b09-fc591d5894a1",
   "metadata": {},
   "outputs": [
    {
     "name": "stdout",
     "output_type": "stream",
     "text": [
      "Here's a recipe for dashimaki (Japanese-style rolled omelette) in Japanese:\n",
      "\n",
      "**材料**\n",
      "\n",
      "* 2個の卵\n",
      "* 1/2 teaspoonの塩\n",
      "* 1/4 teaspoonの砂糖\n",
      "* 1/4 teaspoonののみの粉（optional）\n",
      "\n",
      "**作り方**\n",
      "\n",
      "1. 卵を2個割り、ボウルに入れて混ぜ合わせます。\n",
      "2. 塩、砂糖、のみの粉（ある場合は）を加えて混ぜ合わせます。\n",
      "3. フライパンを熱し、中火で温めます。\n",
      "4. フライパンに少量の油を加えて、スプーンで卵液を フライパンに流し込みます。\n",
      "5. 卵液がextentり始めたら、スプーンで卵を折りたたみながら、板の上にのせるようにします。\n",
      "6. その後、スプーンで板上の卵を巻き上げながら、円形に成形させます。\n",
      "7. だし巻き卵ができたら、熱したフライパンで軽く炒め上げます。\n",
      "8._ready!\n",
      "\n",
      "Tips:\n",
      "\n",
      "* 卵液を均一に混ぜ合わせることが大切です。\n",
      "* フライパンを適切な温度に保つことが大切です。\n",
      "* だし巻き卵を巻き上げる時は、スプーンでガスを逃がさないように気を付けます。\n",
      "\n",
      "Enjoy your delicious dashimaki! 🍳️\n"
     ]
    }
   ],
   "source": [
    "import os\n",
    "\n",
    "from groq import Groq\n",
    "\n",
    "client = Groq(\n",
    "    api_key=os.environ.get(\"GROQ_API_KEY\"),\n",
    ")\n",
    "\n",
    "chat_completion = client.chat.completions.create(\n",
    "    messages=[\n",
    "        {\n",
    "            \"role\": \"user\",\n",
    "            \"content\": \"日本語で、だし巻き卵の作り方を教えて。\",\n",
    "        }\n",
    "    ],\n",
    "    model=\"llama3-70b-8192\",\n",
    ")\n",
    "\n",
    "print(chat_completion.choices[0].message.content)"
   ]
  },
  {
   "cell_type": "code",
   "execution_count": 19,
   "id": "41bb4adf-1d91-4a04-b029-c0efa2f6cdd7",
   "metadata": {},
   "outputs": [
    {
     "name": "stdout",
     "output_type": "stream",
     "text": [
      "😊\n",
      "\n",
      "**ダシ巻き卵の作り方**\n",
      "\n",
      "ダシ巻き卵は、卵と出汁（ダシ）を合わせた日本の truyền統的なお弁当や_snack です。以下は、簡単に作る方法です。\n",
      "\n",
      "**材料**\n",
      "\n",
      "* 4個の卵\n",
      "* 1/2カップのダシ（出汁）\n",
      "* 1/2テスプーンの塩\n",
      "* 1/4テスプーンの砂糖\n",
      "\n",
      "**作り方**\n",
      "\n",
      "1. **卵を準備**: 卵を,eggsbeaterでよく混ぜ合わせて、塩と砂糖を加えて混ぜ合わせます。\n",
      "2. **ダシを準備**: ダシは、出汁粉や出汁の素を水で溶いて作ります。調味料には、塩や砂糖を加えることもあります。\n",
      "3. **卵とダシを合わせる**: 卵の混合物とダシを合わせて、混ぜ合わせます。混ぜ方には、時間をかけてゆっくり混ぜ合わせます。\n",
      "4. **型にする**: 紙やビニール袋に卵とダシの混合物を入れます。長方形の形に整えて、突っ張りながら、卵が均等に広がるようにします。\n",
      "5. **蒸す**: 鍋に水を張り、沸騰させてから、ダシ巻き卵を蒸して、10-15分間蒸します。\n",
      "6. **冷やす**: 蒸し終わったら、冷蔵庫で冷やします。\n",
      "7. **切る**: 冷やしたダシ巻き卵を、好きな大きさに切って仕上げます。\n",
      "\n",
      "**Tips**\n",
      "\n",
      "* ダシ巻き卵は、新鮮な卵を使うと良く、出汁の新鮮さも大切です。\n",
      "* 蒸しの時間は、卵の量や好みによって変えることができます。\n",
      "* 冷やす時間は、少なくとも30分間以上にすることをお勧めします。\n",
      "\n",
      "以上、簡単にダシ巻き卵を作る方法です。作ってみてください！ 😋\n"
     ]
    }
   ],
   "source": [
    "import os\n",
    "\n",
    "from groq import Groq\n",
    "\n",
    "client = Groq(\n",
    "    api_key=os.environ.get(\"GROQ_API_KEY\"),\n",
    ")\n",
    "\n",
    "chat_completion = client.chat.completions.create(\n",
    "    messages=[\n",
    "        {\n",
    "            \"role\":\"system\",\n",
    "            \"content\":\"あなたは優秀なアシスタントです。\"\n",
    "        },\n",
    "        {\n",
    "            \"role\": \"user\",\n",
    "            \"content\": \"日本語で、だし巻き卵の作り方を教えて。\",\n",
    "        }\n",
    "    ],\n",
    "    model=\"llama3-70b-8192\",\n",
    "    #stream=True\n",
    ")\n",
    "\n",
    "print(chat_completion.choices[0].message.content)"
   ]
  },
  {
   "cell_type": "markdown",
   "id": "b25cb0cf-2691-4ff8-b7e6-a3e28dc9aab6",
   "metadata": {},
   "source": [
    "## 逐次表示"
   ]
  },
  {
   "cell_type": "code",
   "execution_count": 26,
   "id": "74c40793-a0ac-4c12-8ba3-cc8c93cee860",
   "metadata": {},
   "outputs": [
    {
     "name": "stdout",
     "output_type": "stream",
     "text": [
      "Here are 20 business ideas that utilize artificial intelligence in Japanese:\n",
      "\n",
      "1. **AI掃除ロボット**: Develop a robot that uses AI-powered navigation and computer vision to efficiently clean large spaces such as offices, hospitals, and shopping malls.\n",
      "2. **AI医師アシスタント**: Create an AI-powered medical assistant that helps doctors diagnose diseases, suggests treatment plans, and automates routine tasks.\n",
      "3. **AI翻訳プラットフォーム**: Build a platform that uses AI to provide accurate and real-time language translation services for individuals and businesses.\n",
      "4. **AI内装デザイン**: Develop an AI-powered interior design tool that suggests furniture layouts, color schemes, and decor recommendations based on user preferences.\n",
      "5. **AI教育プラットフォーム**: Create an AI-powered education platform that offers personalized learning plans, adaptive assessments, and real-time feedback.\n",
      "6. **AI車両ナビゲーション**: Develop an AI-powered navigation system for self-driving cars that optimizes routes, predicts traffic, and prevents accidents.\n",
      "7. **AI画像認識サービス**: Offer an AI-powered image recognition service that helps businesses analyze and categorize large datasets of images.\n",
      "8. **AI音声アシスタント**: Create an AI-powered voice assistant that integrates with smart home devices, provides news updates, and sets reminders.\n",
      "9. **AI農業自動化**: Develop an AI-powered agricultural automation system that monitors crop health, predicts weather patterns, and optimizes irrigation systems.\n",
      "10. **AI人工知能顧問**: Offer AI-powered consulting services that provide data-driven insights, market analysis, and strategic recommendations for businesses.\n",
      "11. **AIスマートHOMEシステム**: Create an AI-powered smart home system that integrates with various devices, learns user behavior, and optimizes energy consumption.\n",
      "12. **AI電子書籍プラットフォーム**: Build an AI-powered e-book platform that offers personalized book recommendations, reading analytics, and interactive content.\n",
      "13. **AI美容アドバイス**: Develop an AI-powered beauty advisory service that provides personalized skincare routines, makeup recommendations, and product suggestions.\n",
      "14. **AI健康管理プラットフォーム**: Create an AI-powered health management platform that tracks user activity, provides personalized fitness plans, and offers nutrition advice.\n",
      "15. **AI旅行計画プラットフォーム**: Build an AI-powered travel planning platform that suggests personalized itineraries, recommends attractions, and book flights and hotels.\n",
      "16. **AI金融分析サービス**: Offer an AI-powered financial analysis service that provides predictive analytics, risk assessments, and investment recommendations.\n",
      "17. **AIサイバーセキュリティー**: Develop an AI-powered cybersecurity system that detects malware, predicts attacks, and responds to incidents in real-time.\n",
      "18. **AI自動翻訳ソフトウェア**: Create an AI-powered automatic translation software that translates documents, videos, and audio files in real-time.\n",
      "19. **AI音声認識ソフトウェア**: Develop an AI-powered speech recognition software that transcribes audio files, recognizes voice commands, and provides subtitles for videos.\n",
      "20. **AIゲーム開発プラットフォーム**: Build an AI-powered game development platform that generates game content, creates character AI, and optimizes game mechanics.\n",
      "\n",
      "These ideas are just a starting point, and there are many more opportunities to explore in the realm of AI-powered businesses."
     ]
    }
   ],
   "source": [
    "from groq import Groq\n",
    "\n",
    "client = Groq()\n",
    "completion = client.chat.completions.create(\n",
    "    model=\"llama3-70b-8192\",\n",
    "    messages=[\n",
    "        {\n",
    "            \"role\": \"system\",\n",
    "            \"content\": \"質問に対して日本語で答えてください。\"\n",
    "        },\n",
    "        {\n",
    "            \"role\": \"user\",\n",
    "            \"content\": \"日本語で人工知能を使って稼ぐアイデアを20個考えてください。\"\n",
    "        }\n",
    "    ],\n",
    "    temperature=1,\n",
    "    max_tokens=1024,\n",
    "    top_p=1,\n",
    "    stream=True,\n",
    "    stop=None,\n",
    ")\n",
    "\n",
    "for chunk in completion:\n",
    "    print(chunk.choices[0].delta.content or \"\", end=\"\")\n"
   ]
  },
  {
   "cell_type": "code",
   "execution_count": null,
   "id": "04f73283-4de5-4f40-a232-300994a875f3",
   "metadata": {},
   "outputs": [],
   "source": []
  }
 ],
 "metadata": {
  "kernelspec": {
   "display_name": "Python 3 (ipykernel)",
   "language": "python",
   "name": "python3"
  },
  "language_info": {
   "codemirror_mode": {
    "name": "ipython",
    "version": 3
   },
   "file_extension": ".py",
   "mimetype": "text/x-python",
   "name": "python",
   "nbconvert_exporter": "python",
   "pygments_lexer": "ipython3",
   "version": "3.10.14"
  }
 },
 "nbformat": 4,
 "nbformat_minor": 5
}
