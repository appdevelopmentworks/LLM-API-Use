{
 "cells": [
  {
   "cell_type": "markdown",
   "id": "ba2e2708-b830-44fe-9d79-deff35f48415",
   "metadata": {},
   "source": [
    "# Anthropic Cloud3のAPI導入"
   ]
  },
  {
   "cell_type": "markdown",
   "id": "4fb50044-1e07-431b-a93f-67e3463506cc",
   "metadata": {},
   "source": [
    "### anthropicクライアントをインストール"
   ]
  },
  {
   "cell_type": "code",
   "execution_count": null,
   "id": "f64e866f-3fde-48ed-988b-9a42e423a65a",
   "metadata": {},
   "outputs": [],
   "source": [
    "!pip install anthropic"
   ]
  },
  {
   "cell_type": "markdown",
   "id": "7ea72f19-d623-42cb-bbe8-71959878cc33",
   "metadata": {},
   "source": [
    "## ワークベンチからGet Code"
   ]
  },
  {
   "cell_type": "code",
   "execution_count": null,
   "id": "eee870c0-57db-4c4d-a6eb-a02bf1b02915",
   "metadata": {},
   "outputs": [],
   "source": [
    "import os\n",
    "from anthropic import Anthropic\n",
    "\n",
    "client = Anthropic(\n",
    "    # This is the default and can be omitted\n",
    "    api_key=os.environ['ANTHROPIC_API_KEY'],\n",
    ")\n",
    "\n",
    "message = client.messages.create(\n",
    "    max_tokens=1024,\n",
    "    messages=[\n",
    "        {\n",
    "            \"role\": \"user\",\n",
    "            \"content\": \"Hello, Claude\",\n",
    "        }\n",
    "    ],\n",
    "    model=\"claude-3-opus-20240229\",\n",
    ")\n",
    "print(message.content)"
   ]
  },
  {
   "cell_type": "code",
   "execution_count": 9,
   "id": "3482e663-e5eb-4f71-9a50-4c240bcb9cfd",
   "metadata": {},
   "outputs": [
    {
     "name": "stdout",
     "output_type": "stream",
     "text": [
      "[TextBlock(text=\"Hello! It's nice to meet you. How are you doing today?\", type='text')]\n"
     ]
    }
   ],
   "source": [
    "import anthropic\n",
    "\n",
    "client = anthropic.Anthropic(\n",
    "    # defaults to os.environ.get(\"ANTHROPIC_API_KEY\").strip()\n",
    "    api_key=os.environ.get(\"ANTHROPIC_API_KEY\").strip(),\n",
    ")\n",
    "\n",
    "message = client.messages.create(\n",
    "    model=\"claude-3-opus-20240229\",\n",
    "    max_tokens=1000,\n",
    "    temperature=0,\n",
    "    messages=[\n",
    "        {\n",
    "            \"role\": \"user\",\n",
    "            \"content\": \"Hello, Claude\",\n",
    "        }\n",
    "    ]\n",
    ")\n",
    "print(message.content)"
   ]
  },
  {
   "cell_type": "code",
   "execution_count": 15,
   "id": "b19022fe-44f3-4ec4-af3e-24b9dcdb0719",
   "metadata": {},
   "outputs": [
    {
     "data": {
      "text/plain": [
       "\"Hello! It's nice to meet you. How can I assist you today?\""
      ]
     },
     "execution_count": 15,
     "metadata": {},
     "output_type": "execute_result"
    }
   ],
   "source": [
    "message.content[0].text"
   ]
  },
  {
   "cell_type": "code",
   "execution_count": 17,
   "id": "6a719f48-6be3-4bf1-8d60-ecc6fd957453",
   "metadata": {},
   "outputs": [
    {
     "name": "stdout",
     "output_type": "stream",
     "text": [
      "だし巻き卵の作り方は以下の通りです。\n",
      "\n",
      "材料（2人分）：\n",
      "- 卵 3個\n",
      "- だし汁 100ml\n",
      "- 砂糖 小さじ1\n",
      "- 塩 少々\n",
      "- 薄口醤油 小さじ1\n",
      "- サラダ油 適量\n",
      "\n",
      "手順：\n",
      "1. ボウルに卵を割り入れ、よく溶きほぐします。\n",
      "2. だし汁、砂糖、塩、薄口醤油を加え、さらに混ぜ合わせます。\n",
      "3. 卵液をざるでこして、泡立て器で再度よく混ぜます。\n",
      "4. フライパンにサラダ油を薄く敷き、中火で熱します。\n",
      "5. フライパンが温まったら、卵液の1/4量を流し入れ、菜箸などで大きく混ぜながら半熟状になるまで焼きます。\n",
      "6. 半熟状になったら、フライパンの手前から奥に向かって卵を巻いていきます。\n",
      "7. 巻いた卵を奥に移動させ、残りの卵液を少しずつ流し入れては巻く作業を繰り返します。\n",
      "8. 全ての卵液を使い切ったら、巻き終わりの部分を下にしてフライパンから取り出します。\n",
      "9. 少し冷ましてから、食べやすい大きさに切り分けて完成です。\n",
      "\n",
      "コツ：\n",
      "- 卵液は一度にたくさん入れずに、少しずつ加えながら巻くことがポイントです。\n",
      "- 巻くときは、菜箸などを使って手前から奥に向かって大きく巻くようにします。\n",
      "- 焼き加減は、お好みで調整してください。しっかり焼けば甘めに、半熟気味だとふんわりとした仕上がりになります。\n"
     ]
    }
   ],
   "source": [
    "import anthropic\n",
    "\n",
    "client = anthropic.Anthropic(\n",
    "    # defaults to os.environ.get(\"ANTHROPIC_API_KEY\")\n",
    "    api_key=os.environ.get(\"ANTHROPIC_API_KEY\"),\n",
    ")\n",
    "\n",
    "message = client.messages.create(\n",
    "    model=\"claude-3-opus-20240229\",\n",
    "    max_tokens=1000,\n",
    "    temperature=0,\n",
    "    messages=[\n",
    "        {\n",
    "            \"role\": \"user\",\n",
    "            \"content\": \"だし巻き卵の作り方おしえて\",\n",
    "        }\n",
    "    ]\n",
    ")\n",
    "print(message.content[0].text)"
   ]
  },
  {
   "cell_type": "code",
   "execution_count": null,
   "id": "3325c3d6-1001-4a55-b962-84423018deb4",
   "metadata": {},
   "outputs": [],
   "source": []
  }
 ],
 "metadata": {
  "kernelspec": {
   "display_name": "Python 3 (ipykernel)",
   "language": "python",
   "name": "python3"
  },
  "language_info": {
   "codemirror_mode": {
    "name": "ipython",
    "version": 3
   },
   "file_extension": ".py",
   "mimetype": "text/x-python",
   "name": "python",
   "nbconvert_exporter": "python",
   "pygments_lexer": "ipython3",
   "version": "3.11.7"
  }
 },
 "nbformat": 4,
 "nbformat_minor": 5
}
