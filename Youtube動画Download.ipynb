{
 "cells": [
  {
   "cell_type": "markdown",
   "id": "5a5352d2-616b-46bc-bd89-371aca846aa3",
   "metadata": {},
   "source": [
    "# Youtube 動画をダウンロード\n",
    "\n",
    "## 1.yt-dlpを使う"
   ]
  },
  {
   "cell_type": "code",
   "execution_count": 11,
   "id": "5e118b61-70c7-4c2c-9def-0d443eccba32",
   "metadata": {},
   "outputs": [
    {
     "name": "stdout",
     "output_type": "stream",
     "text": [
      "Collecting yt-dlp\n",
      "  Downloading yt_dlp-2024.5.27-py3-none-any.whl.metadata (167 kB)\n",
      "     ---------------------------------------- 0.0/167.7 kB ? eta -:--:--\n",
      "     ---- -------------------------------- 20.5/167.7 kB 682.7 kB/s eta 0:00:01\n",
      "     --------- --------------------------- 41.0/167.7 kB 495.5 kB/s eta 0:00:01\n",
      "     -------------------------------------  163.8/167.7 kB 1.2 MB/s eta 0:00:01\n",
      "     -------------------------------------- 167.7/167.7 kB 1.1 MB/s eta 0:00:00\n",
      "Requirement already satisfied: brotli in c:\\users\\hartm\\anaconda3\\lib\\site-packages (from yt-dlp) (1.0.9)\n",
      "Requirement already satisfied: certifi in c:\\users\\hartm\\anaconda3\\lib\\site-packages (from yt-dlp) (2024.2.2)\n",
      "Collecting mutagen (from yt-dlp)\n",
      "  Downloading mutagen-1.47.0-py3-none-any.whl.metadata (1.7 kB)\n",
      "Collecting pycryptodomex (from yt-dlp)\n",
      "  Downloading pycryptodomex-3.20.0-cp35-abi3-win_amd64.whl.metadata (3.4 kB)\n",
      "Requirement already satisfied: requests<3,>=2.31.0 in c:\\users\\hartm\\anaconda3\\lib\\site-packages (from yt-dlp) (2.31.0)\n",
      "Requirement already satisfied: urllib3<3,>=1.26.17 in c:\\users\\hartm\\anaconda3\\lib\\site-packages (from yt-dlp) (2.0.7)\n",
      "Requirement already satisfied: websockets>=12.0 in c:\\users\\hartm\\anaconda3\\lib\\site-packages (from yt-dlp) (12.0)\n",
      "Requirement already satisfied: charset-normalizer<4,>=2 in c:\\users\\hartm\\anaconda3\\lib\\site-packages (from requests<3,>=2.31.0->yt-dlp) (2.0.4)\n",
      "Requirement already satisfied: idna<4,>=2.5 in c:\\users\\hartm\\anaconda3\\lib\\site-packages (from requests<3,>=2.31.0->yt-dlp) (2.10)\n",
      "Downloading yt_dlp-2024.5.27-py3-none-any.whl (3.1 MB)\n",
      "   ---------------------------------------- 0.0/3.1 MB ? eta -:--:--\n",
      "   -------------------------------- ------- 2.5/3.1 MB 53.6 MB/s eta 0:00:01\n",
      "   ---------------------------------------- 3.1/3.1 MB 39.1 MB/s eta 0:00:00\n",
      "Downloading mutagen-1.47.0-py3-none-any.whl (194 kB)\n",
      "   ---------------------------------------- 0.0/194.4 kB ? eta -:--:--\n",
      "   --------------------------------------- 194.4/194.4 kB 12.3 MB/s eta 0:00:00\n",
      "Downloading pycryptodomex-3.20.0-cp35-abi3-win_amd64.whl (1.8 MB)\n",
      "   ---------------------------------------- 0.0/1.8 MB ? eta -:--:--\n",
      "   ---------------------------------------- 1.8/1.8 MB 56.5 MB/s eta 0:00:00\n",
      "Installing collected packages: pycryptodomex, mutagen, yt-dlp\n",
      "Successfully installed mutagen-1.47.0 pycryptodomex-3.20.0 yt-dlp-2024.5.27\n"
     ]
    }
   ],
   "source": [
    "!pip install yt-dlp"
   ]
  },
  {
   "cell_type": "code",
   "execution_count": 12,
   "id": "ade857ef-f7cd-4fc2-a6e8-9af9a715b6e5",
   "metadata": {},
   "outputs": [
    {
     "name": "stdout",
     "output_type": "stream",
     "text": [
      "[youtube] Extracting URL: https://www.youtube.com/watch?v=PzFEs_9eNsU\n",
      "[youtube] PzFEs_9eNsU: Downloading webpage\n",
      "[youtube] PzFEs_9eNsU: Downloading ios player API JSON\n",
      "[youtube] PzFEs_9eNsU: Downloading m3u8 information\n",
      "[info] PzFEs_9eNsU: Downloading 1 format(s): 22\n",
      "[download] Destination: Warren Buffett Lives In A Modest $652K House [PzFEs_9eNsU].mp4\n",
      "[download] 100% of    9.54MiB in 00:00:00 at 15.07MiB/s  \n"
     ]
    }
   ],
   "source": [
    "import yt_dlp\n",
    "\n",
    "url = \"https://www.youtube.com/watch?v=PzFEs_9eNsU\"\n",
    "\n",
    "ydl_opts = {\n",
    "    'format':'best',\n",
    "}\n",
    "\n",
    "with yt_dlp.YoutubeDL(ydl_opts) as ydl:\n",
    "    ydl.download([url])\n"
   ]
  },
  {
   "cell_type": "code",
   "execution_count": 16,
   "id": "50d6e65d-0ca7-4b97-9b4f-7bb13c70c87a",
   "metadata": {},
   "outputs": [
    {
     "name": "stdout",
     "output_type": "stream",
     "text": [
      "[youtube] Extracting URL: https://www.youtube.com/watch?v=ojJupoAyT58\n",
      "[youtube] ojJupoAyT58: Downloading webpage\n",
      "[youtube] ojJupoAyT58: Downloading ios player API JSON\n",
      "[youtube] ojJupoAyT58: Downloading m3u8 information\n"
     ]
    },
    {
     "name": "stderr",
     "output_type": "stream",
     "text": [
      "WARNING: ffmpeg not found. The downloaded format may not be the best available. Installing ffmpeg is strongly recommended: https://github.com/yt-dlp/yt-dlp#dependencies\n"
     ]
    },
    {
     "name": "stdout",
     "output_type": "stream",
     "text": [
      "[info] ojJupoAyT58: Downloading 1 format(s): 22\n",
      "[download] Destination: temp001.mp4\n",
      "[download] 100% of   41.21MiB in 00:00:04 at 8.38MiB/s     \n"
     ]
    }
   ],
   "source": [
    "#ファイル名を指定して保存\n",
    "import yt_dlp\n",
    "\n",
    "# 動画URLと保存したいファイル名を指定\n",
    "url = 'https://www.youtube.com/watch?v=ojJupoAyT58'  # ダウンロードしたい動画のURL\n",
    "output_filename = 'temp001.mp4'  # 保存したいファイル名\n",
    "\n",
    "# yt-dlpのオプションを設定\n",
    "ydl_opts = {\n",
    "    'outtmpl': output_filename  # 出力ファイル名を指定\n",
    "}\n",
    "\n",
    "# yt-dlpを使用して動画をダウンロード\n",
    "with yt_dlp.YoutubeDL(ydl_opts) as ydl:\n",
    "    ydl.download([url])\n"
   ]
  },
  {
   "cell_type": "code",
   "execution_count": 17,
   "id": "0620c90f-77de-4477-b66d-56c1f2298e3d",
   "metadata": {},
   "outputs": [
    {
     "name": "stdin",
     "output_type": "stream",
     "text": [
      "YoutubeのURL: https://www.youtube.com/watch?v=F8_ME4VwTiw\n",
      "保存ファイル名(.mp4): temp002.mp4\n"
     ]
    },
    {
     "name": "stdout",
     "output_type": "stream",
     "text": [
      "[youtube] Extracting URL: https://www.youtube.com/watch?v=F8_ME4VwTiw\n",
      "[youtube] F8_ME4VwTiw: Downloading webpage\n",
      "[youtube] F8_ME4VwTiw: Downloading ios player API JSON\n",
      "[youtube] F8_ME4VwTiw: Downloading m3u8 information\n"
     ]
    },
    {
     "name": "stderr",
     "output_type": "stream",
     "text": [
      "WARNING: ffmpeg not found. The downloaded format may not be the best available. Installing ffmpeg is strongly recommended: https://github.com/yt-dlp/yt-dlp#dependencies\n"
     ]
    },
    {
     "name": "stdout",
     "output_type": "stream",
     "text": [
      "[info] F8_ME4VwTiw: Downloading 1 format(s): 22\n",
      "[download] Destination: temp002.mp4\n",
      "[download] 100% of    8.91MiB in 00:00:01 at 6.77MiB/s   \n"
     ]
    }
   ],
   "source": [
    "#ファイル名を指定して保存\n",
    "import yt_dlp\n",
    "\n",
    "# 動画URLと保存したいファイル名を指定\n",
    "url = input(\"YoutubeのURL:\")  # ダウンロードしたい動画のURL\n",
    "output_filename = input(\"保存ファイル名(.mp4):\")  # 保存したいファイル名\n",
    "\n",
    "# yt-dlpのオプションを設定\n",
    "ydl_opts = {\n",
    "    'outtmpl': output_filename  # 出力ファイル名を指定\n",
    "}\n",
    "\n",
    "# yt-dlpを使用して動画をダウンロード\n",
    "with yt_dlp.YoutubeDL(ydl_opts) as ydl:\n",
    "    ydl.download([url])\n"
   ]
  },
  {
   "cell_type": "markdown",
   "id": "2379a858-109e-4d9c-942b-0bad85619768",
   "metadata": {},
   "source": [
    "## 2.pytubeを使う"
   ]
  },
  {
   "cell_type": "code",
   "execution_count": 9,
   "id": "795af9e5-7581-45e6-a01e-df81b65b7720",
   "metadata": {},
   "outputs": [
    {
     "name": "stdout",
     "output_type": "stream",
     "text": [
      "Collecting pytube\n",
      "  Downloading pytube-15.0.0-py3-none-any.whl.metadata (5.0 kB)\n",
      "Downloading pytube-15.0.0-py3-none-any.whl (57 kB)\n",
      "   ---------------------------------------- 0.0/57.6 kB ? eta -:--:--\n",
      "   ------- -------------------------------- 10.2/57.6 kB ? eta -:--:--\n",
      "   ---------------------------- ----------- 41.0/57.6 kB 495.5 kB/s eta 0:00:01\n",
      "   ---------------------------------------- 57.6/57.6 kB 607.1 kB/s eta 0:00:00\n",
      "Installing collected packages: pytube\n",
      "Successfully installed pytube-15.0.0\n"
     ]
    }
   ],
   "source": [
    "!pip install pytube"
   ]
  },
  {
   "cell_type": "code",
   "execution_count": 10,
   "id": "83bcc909-5e8d-4ad2-b341-ffe2c5f5032f",
   "metadata": {},
   "outputs": [
    {
     "data": {
      "text/plain": [
       "'C:\\\\Users\\\\hartm\\\\Development\\\\PythonPrj\\\\LLM-API-Use\\\\【株式投資】ウォーレンバフェットから学ぶ株式投資の真髄。天才投資家の特徴とは？【テスタ株デイトレ初心者大損投資塩漬け損切りナンピン現物取引切り抜き】.mp4'"
      ]
     },
     "execution_count": 10,
     "metadata": {},
     "output_type": "execute_result"
    }
   ],
   "source": [
    "from pytube import YouTube\n",
    "\n",
    "url = 'https://www.youtube.com/watch?v=_XxyzjogpyU'\n",
    "\n",
    "yt = YouTube(url)\n",
    "\n",
    "# 音声を含むストリームを取得（通常は最高解像度）\n",
    "stream = yt.streams.filter(progressive=True, file_extension='mp4').order_by('resolution').desc().first()\n",
    "\n",
    "# 動画のダウンロード（現在のディレクトリに保存）\n",
    "stream.download()"
   ]
  },
  {
   "cell_type": "code",
   "execution_count": null,
   "id": "ecf3a338-d766-4a31-873e-b7bcfe7208c1",
   "metadata": {},
   "outputs": [],
   "source": []
  }
 ],
 "metadata": {
  "kernelspec": {
   "display_name": "Python 3 (ipykernel)",
   "language": "python",
   "name": "python3"
  },
  "language_info": {
   "codemirror_mode": {
    "name": "ipython",
    "version": 3
   },
   "file_extension": ".py",
   "mimetype": "text/x-python",
   "name": "python",
   "nbconvert_exporter": "python",
   "pygments_lexer": "ipython3",
   "version": "3.11.7"
  }
 },
 "nbformat": 4,
 "nbformat_minor": 5
}
